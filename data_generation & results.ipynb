{
 "cells": [
  {
   "cell_type": "markdown",
   "metadata": {},
   "source": [
    "## GENERACION GROUND TRUE"
   ]
  },
  {
   "cell_type": "markdown",
   "metadata": {},
   "source": [
    "### Dataset Shanghai Tech"
   ]
  },
  {
   "cell_type": "code",
   "execution_count": null,
   "metadata": {},
   "outputs": [],
   "source": [
    "import os\n",
    "import json\n",
    "from GT_functions import *\n",
    "\n",
    "#Definimos la ruta del dataset\n",
    "root = r'C:\\Users\\Usuario\\Pictures\\Bases de Datos\\Shanghai Tech'\n",
    "part_A_train = os.path.join(root,'part_A_final/train_data','images')"
   ]
  },
  {
   "cell_type": "markdown",
   "metadata": {},
   "source": [
    "##### TRAIN"
   ]
  },
  {
   "cell_type": "code",
   "execution_count": null,
   "metadata": {},
   "outputs": [],
   "source": [
    "#PART A\n",
    "part_A_train = os.path.join(root,'part_A_final/train_data','images')\n",
    "GT_generation(ls_paths(part_A_train))\n",
    "#PART B\n",
    "part_B_train = os.path.join(root,'part_B_final/train_data','images')\n",
    "GT_generation(ls_paths(part_B_train))\n"
   ]
  },
  {
   "cell_type": "markdown",
   "metadata": {},
   "source": [
    "##### TEST"
   ]
  },
  {
   "cell_type": "code",
   "execution_count": null,
   "metadata": {},
   "outputs": [],
   "source": [
    "#PART A\n",
    "part_A_test = os.path.join(root,'part_A_final/test_data','images')\n",
    "GT_generation(ls_paths(part_A_test))\n",
    "#PART B\n",
    "part_B_test = os.path.join(root,'part_B_final/test_data','images')\n",
    "GT_generation(ls_paths(part_B_test))"
   ]
  },
  {
   "cell_type": "markdown",
   "metadata": {},
   "source": [
    "# MAKE DATASET GREAT AGAIN"
   ]
  },
  {
   "cell_type": "code",
   "execution_count": 1,
   "metadata": {},
   "outputs": [],
   "source": [
    "import numpy as np\n",
    "import matplotlib.pyplot as plt\n",
    "import h5py\n",
    "from load_data import*\n",
    "\n",
    "root = r'C:\\Users\\Usuario\\Pictures\\Bases de Datos\\Shanghai Tech'\n",
    "part_A_train = os.path.join(root,'part_B_final/train_data','images')\n",
    "part_A_test = os.path.join(root,'part_B_final/test_data','images')\n",
    "\n",
    "train = Load_Data(part_A_train)\n",
    "test = Load_Data(part_A_test)\n",
    "\n",
    "with h5py.File('data.h5', 'w') as hf:\n",
    "    hf['train'] =  train\n",
    "    hf['test'] =  test"
   ]
  },
  {
   "cell_type": "markdown",
   "metadata": {},
   "source": [
    "## EXPLORACION RESULTADOS"
   ]
  },
  {
   "cell_type": "code",
   "execution_count": null,
   "metadata": {},
   "outputs": [],
   "source": [
    "from load_data import *\n",
    "from plotting import *\n",
    "import h5py\n",
    "\n",
    "data_root = r\"C:\\Users\\Usuario\\Pictures\\Bases de Datos\\Shanghai Tech\\part_B_final\\data.h5\"\n",
    "\n",
    "f = h5py.File(data_root, 'r')\n",
    "train = tf.constant(np.asarray(f['train']))\n",
    "test = tf.constant(np.asarray(f['test']))\n",
    "f.close"
   ]
  },
  {
   "cell_type": "code",
   "execution_count": null,
   "metadata": {},
   "outputs": [],
   "source": [
    "predict_root = r\"C:\\Users\\Usuario\\Pictures\\Bases de Datos\\Shanghai Tech\\part_B_final\\result\\v5.0.2.h5\"\n",
    "\n",
    "pred = h5py.File(predict_root, 'r')\n",
    "train_pred = tf.constant(np.asarray(pred['train']))\n",
    "test_pred = tf.constant(np.asarray(pred['test']))\n",
    "pred.close"
   ]
  },
  {
   "cell_type": "code",
   "execution_count": 5,
   "metadata": {},
   "outputs": [
    {
     "data": {
      "text/plain": [
       "<tf.Tensor: shape=(), dtype=float64, numpy=280.16029811698235>"
      ]
     },
     "execution_count": 5,
     "metadata": {},
     "output_type": "execute_result"
    }
   ],
   "source": [
    "import tensorflow as tf\n",
    "tf.math.reduce_sum(train[0,:,:,3:4])"
   ]
  },
  {
   "cell_type": "code",
   "execution_count": null,
   "metadata": {},
   "outputs": [],
   "source": [
    "import matplotlib.pyplot as plt\n",
    "\n",
    "A = 16*train[0,:,:,3:4]\n",
    "B = 16*train_pred[0,:,:,0:1]\n",
    "C = train[0,:,:,0:3]\n",
    "\n",
    "plt.figure()\n",
    "plt.subplot(1, 3, 1), plt.imshow(C)\n",
    "plt.subplot(1, 3, 2), plt.imshow(A)\n",
    "plt.subplot(1, 3, 3), plt.imshow(B)\n",
    "\n",
    "plt.show()"
   ]
  },
  {
   "cell_type": "code",
   "execution_count": null,
   "metadata": {},
   "outputs": [],
   "source": [
    "from scipy import io \n",
    "tt = r\"C:\\Users\\Usuario\\Pictures\\Bases de Datos\\Shanghai Tech\\part_B_final\\train_data\\ground_truth\\GT_IMG_1.mat\"\n",
    "mat = io.loadmat(tt)"
   ]
  },
  {
   "cell_type": "code",
   "execution_count": null,
   "metadata": {},
   "outputs": [],
   "source": [
    "count_estimate(train[:,:,:,0:3], train[:,:,:,3:4], train_pred, 'v5.0.3', 'train')"
   ]
  },
  {
   "cell_type": "code",
   "execution_count": null,
   "metadata": {},
   "outputs": [],
   "source": [
    "count_estimate(test[:,:,:,0:3], test[:,:,:,3:4], test_pred,'v5.0.3', 'test')"
   ]
  }
 ],
 "metadata": {
  "kernelspec": {
   "display_name": "Python 3 (ipykernel)",
   "language": "python",
   "name": "python3"
  },
  "language_info": {
   "codemirror_mode": {
    "name": "ipython",
    "version": 3
   },
   "file_extension": ".py",
   "mimetype": "text/x-python",
   "name": "python",
   "nbconvert_exporter": "python",
   "pygments_lexer": "ipython3",
   "version": "3.9.13"
  },
  "vscode": {
   "interpreter": {
    "hash": "e06ff7da33dc9620448857a90ad8b5f428f0d573d205a934d2841c8aee45ea32"
   }
  }
 },
 "nbformat": 4,
 "nbformat_minor": 2
}
