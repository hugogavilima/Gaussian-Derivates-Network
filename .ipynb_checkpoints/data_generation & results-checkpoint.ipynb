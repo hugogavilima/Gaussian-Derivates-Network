{
 "cells": [
  {
   "cell_type": "markdown",
   "metadata": {},
   "source": [
    "## GENERACION DATASET"
   ]
  },
  {
   "cell_type": "code",
   "execution_count": 1,
   "metadata": {},
   "outputs": [],
   "source": [
    "import os\n",
    "from pathlib import Path\n",
    "import json\n",
    "from GT_functions import *"
   ]
  },
  {
   "cell_type": "markdown",
   "metadata": {},
   "source": [
    "### Dataset Shanghai Tech"
   ]
  },
  {
   "cell_type": "code",
   "execution_count": 2,
   "metadata": {},
   "outputs": [],
   "source": [
    "#Definimos la ruta del dataset\n",
    "root = r'C:\\Users\\Usuario\\Pictures\\Bases de Datos\\Shanghai Tech'"
   ]
  },
  {
   "cell_type": "markdown",
   "metadata": {},
   "source": [
    "> ##### TRAIN"
   ]
  },
  {
   "cell_type": "code",
   "execution_count": 3,
   "metadata": {},
   "outputs": [
    {
     "name": "stderr",
     "output_type": "stream",
     "text": [
      "100% |########################################################################|\n"
     ]
    }
   ],
   "source": [
    "#PART A\n",
    "part_A_train = os.path.join(root,'part_A_final/train_data','images')\n",
    "DTS_SG_part_A = GT_generation(ls_paths(part_A_train))\n",
    "\n",
    "with open(\"JSON FILES/DTS_SG_part_A.json\", \"w\") as outfile:\n",
    "    json.dump(DTS_SG_part_A , outfile)"
   ]
  },
  {
   "cell_type": "code",
   "execution_count": null,
   "metadata": {},
   "outputs": [],
   "source": [
    "#PART B\n",
    "#print(\"PART B\")\n",
    "#part_B_train = os.path.join(root,'part_B_final/train_data','images')\n",
    "\n",
    "#with open(\"JSON FILES/DTS_SG_part_B.json\", \"w\") as outfile:\n",
    "#   json.dump(DTS_SG_part_A , outfile)"
   ]
  },
  {
   "cell_type": "markdown",
   "metadata": {},
   "source": [
    "> ##### TEST"
   ]
  },
  {
   "cell_type": "code",
   "execution_count": 4,
   "metadata": {},
   "outputs": [
    {
     "name": "stderr",
     "output_type": "stream",
     "text": [
      "100% |########################################################################|\n"
     ]
    }
   ],
   "source": [
    "#PART A\n",
    "part_A_test = os.path.join(root,'part_A_final/test_data','images')\n",
    "DTS_SG_part_A_TEST = GT_generation(ls_paths(part_A_test))\n",
    "\n",
    "with open(\"JSON FILES/DTS_SG_part_A_TEST.json\", \"w\") as outfile:\n",
    "    json.dump(DTS_SG_part_A_TEST , outfile)"
   ]
  },
  {
   "cell_type": "code",
   "execution_count": null,
   "metadata": {},
   "outputs": [],
   "source": [
    "#PART B\n",
    "#part_B_test = os.path.join(root,'part_B_final/test_data','images')"
   ]
  },
  {
   "cell_type": "markdown",
   "metadata": {},
   "source": [
    "## EXPLORACION RESULTADOS"
   ]
  },
  {
   "cell_type": "code",
   "execution_count": 1,
   "metadata": {},
   "outputs": [],
   "source": [
    "import json\n",
    "from load_data import *\n",
    "from plotting import *\n",
    "import tensorflow as tf \n",
    "import os\n",
    "import h5py"
   ]
  },
  {
   "cell_type": "code",
   "execution_count": 2,
   "metadata": {},
   "outputs": [],
   "source": [
    "#Importamos los ground truth del conjunto de entrenamiento y test. \n",
    "json_train = open('JSON FILES\\DTS_SG_part_A.json')\n",
    "json_test = open('JSON FILES\\DTS_SG_part_A_TEST.json')\n",
    "predict_root = r'C:\\Users\\Usuario\\Pictures\\Bases de Datos\\Shanghai Tech\\part_A_final\\results'\n",
    "\n",
    "name_version = 'V3.0.1'\n",
    "\n",
    "paths_train = json.load(json_train)\n",
    "paths_test = json.load(json_test)\n",
    "path_predict = os.path.join(predict_root, name_version + '.h5')\n",
    "\n",
    "#Cargamos la data \n",
    "train_GT = mLoad_GT(paths_train)\n",
    "train_img = mLoad_Img(paths_train)\n",
    "\n",
    "test_GT = mLoad_GT(paths_test)\n",
    "test_img = mLoad_Img(paths_test)\n",
    "\n",
    "#Cargamos los resultados de la prediccion\n",
    "train_predict, test_predict = mLoad_Pred(path_predict)"
   ]
  },
  {
   "cell_type": "code",
   "execution_count": null,
   "metadata": {},
   "outputs": [],
   "source": [
    "test_GT"
   ]
  },
  {
   "cell_type": "code",
   "execution_count": 3,
   "metadata": {},
   "outputs": [
    {
     "name": "stderr",
     "output_type": "stream",
     "text": [
      "  0% |                                                                        |\r"
     ]
    },
    {
     "name": "stdout",
     "output_type": "stream",
     "text": [
      "Resultados para:  train \n",
      "\n",
      "Direccion Existente:  C:\\Users\\Usuario\\Documents\\results\\V3.0.1\n"
     ]
    },
    {
     "name": "stderr",
     "output_type": "stream",
     "text": [
      "100% |########################################################################|\n",
      "  0% |                                                                        |\r"
     ]
    },
    {
     "name": "stdout",
     "output_type": "stream",
     "text": [
      "Resultados para:  test \n",
      "\n",
      "Direccion Existente:  C:\\Users\\Usuario\\Documents\\results\\V3.0.1\n"
     ]
    },
    {
     "name": "stderr",
     "output_type": "stream",
     "text": [
      "100% |########################################################################|\n"
     ]
    }
   ],
   "source": [
    "count_estimate(train_img, train_GT, train_predict, name_version, 'train')\n",
    "count_estimate(test_img, test_GT, test_predict, name_version, 'test')"
   ]
  }
 ],
 "metadata": {
  "kernelspec": {
   "display_name": "Python 3 (ipykernel)",
   "language": "python",
   "name": "python3"
  },
  "language_info": {
   "codemirror_mode": {
    "name": "ipython",
    "version": 3
   },
   "file_extension": ".py",
   "mimetype": "text/x-python",
   "name": "python",
   "nbconvert_exporter": "python",
   "pygments_lexer": "ipython3",
   "version": "3.9.13"
  },
  "vscode": {
   "interpreter": {
    "hash": "e06ff7da33dc9620448857a90ad8b5f428f0d573d205a934d2841c8aee45ea32"
   }
  }
 },
 "nbformat": 4,
 "nbformat_minor": 2
}
